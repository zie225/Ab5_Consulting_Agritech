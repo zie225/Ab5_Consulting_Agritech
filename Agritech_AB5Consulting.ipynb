{
 "cells": [
  {
   "cell_type": "code",
   "execution_count": 275,
   "metadata": {},
   "outputs": [],
   "source": [
    "import pandas as pd\n",
    "from sklearn.preprocessing import LabelEncoder,OneHotEncoder\n",
    "from sklearn.model_selection import train_test_split\n",
    "import pandas as pd\n",
    "from sklearn import model_selection\n",
    "import sklearn as read_csv\n",
    "import numpy as np\n",
    "from sklearn.metrics import classification_report,accuracy_score,confusion_matrix\n",
    "from matplotlib import pyplot as plt\n",
    "from sklearn import svm\n",
    "from sklearn import metrics\n",
    "from sklearn.svm import SVC\n",
    "from sklearn.metrics import roc_curve, auc\n",
    "from sklearn.model_selection import train_test_split\n",
    "from sklearn.preprocessing import label_binarize\n",
    "from sklearn.multiclass import OneVsRestClassifier\n",
    "from scipy import interp\n",
    "from sklearn.preprocessing import LabelEncoder\n",
    "from sklearn import preprocessing\n",
    "from sklearn.decomposition import PCA\n",
    "from sklearn.preprocessing import StandardScaler\n",
    "from sklearn.neural_network import MLPClassifier\n",
    "import numpy as np\n",
    "from random import shuffle\n",
    "from operator import itemgetter\n",
    "import pandas as pd\n",
    "from sklearn.model_selection import train_test_split\n",
    "import pandas as pd\n",
    "from sklearn import model_selection\n",
    "import sklearn as read_csv\n",
    "import numpy as np\n",
    "from sklearn.metrics import classification_report,accuracy_score,confusion_matrix\n",
    "from matplotlib import pyplot as plt\n",
    "from sklearn import svm\n",
    "from sklearn.neighbors import KNeighborsClassifier\n",
    "from sklearn.svm import SVC\n",
    "from sklearn.metrics import roc_curve, auc\n",
    "from sklearn.model_selection import train_test_split\n",
    "from sklearn.preprocessing import label_binarize\n",
    "from sklearn.multiclass import OneVsRestClassifier\n",
    "from scipy import interp\n",
    "from sklearn.preprocessing import LabelEncoder\n",
    "from sklearn import preprocessing\n",
    "from sklearn.decomposition import PCA\n",
    "from sklearn.preprocessing import StandardScaler\n",
    "from sklearn.neural_network import MLPClassifier\n",
    "import numpy as np\n",
    "from random import shuffle\n",
    "from operator import itemgetter\n",
    "from sklearn import preprocessing\n",
    "from gplearn.genetic import SymbolicRegressor\n",
    "from sklearn.utils.random import check_random_state\n",
    "import numpy as np\n",
    "from sklearn.model_selection import KFold\n",
    "from sklearn.model_selection import cross_val_score\n",
    "from sklearn.ensemble import RandomForestClassifier\n",
    "from sklearn.ensemble import BaggingClassifier\n",
    "from sklearn.model_selection import cross_val_score, train_test_split\n",
    "from mlxtend.plotting import plot_learning_curves\n",
    "from mlxtend.plotting import plot_decision_regions\n",
    "import itertools\n",
    "from sklearn.tree import DecisionTreeClassifier\n",
    "from sklearn.model_selection import train_test_split, GridSearchCV\n",
    "import numpy as np\n",
    "import xgboost as xgb\n",
    "import seaborn as sns\n",
    "import matplotlib.pyplot as plt\n",
    "import matplotlib.gridspec as gridspec\n",
    "from mlxtend.classifier import StackingClassifier\n",
    "from sklearn.linear_model import LogisticRegression\n",
    "from sklearn.model_selection import GridSearchCV \n",
    "from matplotlib import pyplot\n",
    "#We choose 5 cross validation for our machine learning model\n",
    "n_folds = KFold(n_splits =5,shuffle= False )\n",
    "from sklearn.model_selection import RandomizedSearchCV\n",
    "from sklearn.metrics import jaccard_score\n",
    "from keras.models import Sequential\n",
    "from keras.layers.core import Dense,Activation\n",
    "from keras.utils import np_utils\n",
    "from sklearn.tree import DecisionTreeClassifier\n",
    "from sklearn.model_selection import train_test_split\n",
    "import xgboost as xgb\n",
    "from sklearn.metrics import accuracy_score\n",
    "from numpy import mean\n",
    "from numpy import std\n",
    "from sklearn.model_selection import RepeatedStratifiedKFold # evaluate a given model using cross-validation\n",
    "\n",
    "# import packages for hyperparameters tuning\n",
    "from hyperopt import STATUS_OK, Trials, fmin, hp, tpe\n",
    "\n",
    "import keras\n",
    "import keras.utils\n",
    "from keras import utils as np_utils\n",
    "from tensorflow.keras.utils import to_categorical\n",
    "from keras.layers import Dropout\n",
    "# Example of Dropout on the Sonar Dataset: Hidden Layer\n",
    "from pandas import read_csv\n",
    "from keras.models import Sequential\n",
    "from keras.layers import Dense\n",
    "from keras.layers import Dropout\n",
    "from keras.wrappers.scikit_learn import KerasClassifier\n",
    "from keras.constraints import maxnorm\n",
    "from keras.optimizers import SGD\n",
    "from sklearn.model_selection import cross_val_score\n",
    "from sklearn.preprocessing import LabelEncoder\n",
    "from sklearn.model_selection import StratifiedKFold\n",
    "from sklearn.preprocessing import StandardScaler\n",
    "from sklearn.pipeline import Pipeline\n",
    "import torch\n",
    "import torch.nn as nn\n",
    "from torch import optim\n",
    "from torch.optim import lr_scheduler\n",
    "from torch.utils.data import DataLoader, RandomSampler, SequentialSampler\n",
    "\n",
    "from src.config import config\n",
    "from src.dataset import CustomDataset, DataTransformer\n",
    "from src.engine import engine\n",
    "from src.metrics import mbe\n",
    "from src.model import NeuralNet\n",
    "from src.utils import get_cat_emb_dims, init_random_seed\n",
    "\n",
    "import pandas as pd\n",
    "import numpy as np\n",
    "from sklearn.model_selection import train_test_split\n",
    "import os\n",
    "import pickle\n",
    "import random"
   ]
  },
  {
   "cell_type": "code",
   "execution_count": 18,
   "metadata": {},
   "outputs": [],
   "source": [
    "colnames=['date','time','voltage','humidity','target']"
   ]
  },
  {
   "cell_type": "code",
   "execution_count": 19,
   "metadata": {},
   "outputs": [],
   "source": [
    "df=pd.read_csv(\"sensor_readings.csv\",names=colnames, header=None)"
   ]
  },
  {
   "cell_type": "code",
   "execution_count": 675,
   "metadata": {},
   "outputs": [
    {
     "data": {
      "text/html": [
       "<div>\n",
       "<style scoped>\n",
       "    .dataframe tbody tr th:only-of-type {\n",
       "        vertical-align: middle;\n",
       "    }\n",
       "\n",
       "    .dataframe tbody tr th {\n",
       "        vertical-align: top;\n",
       "    }\n",
       "\n",
       "    .dataframe thead th {\n",
       "        text-align: right;\n",
       "    }\n",
       "</style>\n",
       "<table border=\"1\" class=\"dataframe\">\n",
       "  <thead>\n",
       "    <tr style=\"text-align: right;\">\n",
       "      <th></th>\n",
       "      <th>date</th>\n",
       "      <th>time</th>\n",
       "      <th>voltage</th>\n",
       "      <th>humidity</th>\n",
       "      <th>target</th>\n",
       "    </tr>\n",
       "  </thead>\n",
       "  <tbody>\n",
       "    <tr>\n",
       "      <th>0</th>\n",
       "      <td>2021-11-25</td>\n",
       "      <td>18:40:44</td>\n",
       "      <td>1.32</td>\n",
       "      <td>-0.44</td>\n",
       "      <td>dry</td>\n",
       "    </tr>\n",
       "    <tr>\n",
       "      <th>1</th>\n",
       "      <td>2021-11-25</td>\n",
       "      <td>18:40:45</td>\n",
       "      <td>1.32</td>\n",
       "      <td>-0.44</td>\n",
       "      <td>dry</td>\n",
       "    </tr>\n",
       "    <tr>\n",
       "      <th>2</th>\n",
       "      <td>2021-11-25</td>\n",
       "      <td>18:40:46</td>\n",
       "      <td>1.32</td>\n",
       "      <td>-0.44</td>\n",
       "      <td>dry</td>\n",
       "    </tr>\n",
       "    <tr>\n",
       "      <th>3</th>\n",
       "      <td>2021-11-25</td>\n",
       "      <td>18:40:47</td>\n",
       "      <td>1.32</td>\n",
       "      <td>-0.44</td>\n",
       "      <td>dry</td>\n",
       "    </tr>\n",
       "    <tr>\n",
       "      <th>4</th>\n",
       "      <td>2021-11-25</td>\n",
       "      <td>18:40:48</td>\n",
       "      <td>1.32</td>\n",
       "      <td>-0.44</td>\n",
       "      <td>dry</td>\n",
       "    </tr>\n",
       "    <tr>\n",
       "      <th>...</th>\n",
       "      <td>...</td>\n",
       "      <td>...</td>\n",
       "      <td>...</td>\n",
       "      <td>...</td>\n",
       "      <td>...</td>\n",
       "    </tr>\n",
       "    <tr>\n",
       "      <th>334056</th>\n",
       "      <td>2021-11-29</td>\n",
       "      <td>18:51:17</td>\n",
       "      <td>1.43</td>\n",
       "      <td>-0.52</td>\n",
       "      <td>dry</td>\n",
       "    </tr>\n",
       "    <tr>\n",
       "      <th>334057</th>\n",
       "      <td>2021-11-29</td>\n",
       "      <td>18:51:18</td>\n",
       "      <td>1.43</td>\n",
       "      <td>-0.52</td>\n",
       "      <td>dry</td>\n",
       "    </tr>\n",
       "    <tr>\n",
       "      <th>334058</th>\n",
       "      <td>2021-11-29</td>\n",
       "      <td>18:51:19</td>\n",
       "      <td>1.43</td>\n",
       "      <td>-0.52</td>\n",
       "      <td>dry</td>\n",
       "    </tr>\n",
       "    <tr>\n",
       "      <th>334059</th>\n",
       "      <td>2021-11-29</td>\n",
       "      <td>18:51:21</td>\n",
       "      <td>1.43</td>\n",
       "      <td>-0.52</td>\n",
       "      <td>dry</td>\n",
       "    </tr>\n",
       "    <tr>\n",
       "      <th>334060</th>\n",
       "      <td>2021-11-29</td>\n",
       "      <td>18:51:22</td>\n",
       "      <td>1.43</td>\n",
       "      <td>-0.52</td>\n",
       "      <td>dry</td>\n",
       "    </tr>\n",
       "  </tbody>\n",
       "</table>\n",
       "<p>334061 rows × 5 columns</p>\n",
       "</div>"
      ],
      "text/plain": [
       "              date      time  voltage  humidity target\n",
       "0       2021-11-25  18:40:44     1.32     -0.44    dry\n",
       "1       2021-11-25  18:40:45     1.32     -0.44    dry\n",
       "2       2021-11-25  18:40:46     1.32     -0.44    dry\n",
       "3       2021-11-25  18:40:47     1.32     -0.44    dry\n",
       "4       2021-11-25  18:40:48     1.32     -0.44    dry\n",
       "...            ...       ...      ...       ...    ...\n",
       "334056  2021-11-29  18:51:17     1.43     -0.52    dry\n",
       "334057  2021-11-29  18:51:18     1.43     -0.52    dry\n",
       "334058  2021-11-29  18:51:19     1.43     -0.52    dry\n",
       "334059  2021-11-29  18:51:21     1.43     -0.52    dry\n",
       "334060  2021-11-29  18:51:22     1.43     -0.52    dry\n",
       "\n",
       "[334061 rows x 5 columns]"
      ]
     },
     "execution_count": 675,
     "metadata": {},
     "output_type": "execute_result"
    }
   ],
   "source": [
    "df1"
   ]
  },
  {
   "cell_type": "code",
   "execution_count": 20,
   "metadata": {},
   "outputs": [
    {
     "data": {
      "text/html": [
       "<div>\n",
       "<style scoped>\n",
       "    .dataframe tbody tr th:only-of-type {\n",
       "        vertical-align: middle;\n",
       "    }\n",
       "\n",
       "    .dataframe tbody tr th {\n",
       "        vertical-align: top;\n",
       "    }\n",
       "\n",
       "    .dataframe thead th {\n",
       "        text-align: right;\n",
       "    }\n",
       "</style>\n",
       "<table border=\"1\" class=\"dataframe\">\n",
       "  <thead>\n",
       "    <tr style=\"text-align: right;\">\n",
       "      <th></th>\n",
       "      <th>date</th>\n",
       "      <th>time</th>\n",
       "      <th>voltage</th>\n",
       "      <th>humidity</th>\n",
       "      <th>target</th>\n",
       "    </tr>\n",
       "  </thead>\n",
       "  <tbody>\n",
       "    <tr>\n",
       "      <th>0</th>\n",
       "      <td>2021-11-25</td>\n",
       "      <td>18:40:44</td>\n",
       "      <td>1.32</td>\n",
       "      <td>-0.44</td>\n",
       "      <td>dry</td>\n",
       "    </tr>\n",
       "    <tr>\n",
       "      <th>1</th>\n",
       "      <td>2021-11-25</td>\n",
       "      <td>18:40:45</td>\n",
       "      <td>1.32</td>\n",
       "      <td>-0.44</td>\n",
       "      <td>dry</td>\n",
       "    </tr>\n",
       "    <tr>\n",
       "      <th>2</th>\n",
       "      <td>2021-11-25</td>\n",
       "      <td>18:40:46</td>\n",
       "      <td>1.32</td>\n",
       "      <td>-0.44</td>\n",
       "      <td>dry</td>\n",
       "    </tr>\n",
       "    <tr>\n",
       "      <th>3</th>\n",
       "      <td>2021-11-25</td>\n",
       "      <td>18:40:47</td>\n",
       "      <td>1.32</td>\n",
       "      <td>-0.44</td>\n",
       "      <td>dry</td>\n",
       "    </tr>\n",
       "    <tr>\n",
       "      <th>4</th>\n",
       "      <td>2021-11-25</td>\n",
       "      <td>18:40:48</td>\n",
       "      <td>1.32</td>\n",
       "      <td>-0.44</td>\n",
       "      <td>dry</td>\n",
       "    </tr>\n",
       "  </tbody>\n",
       "</table>\n",
       "</div>"
      ],
      "text/plain": [
       "         date      time  voltage  humidity target\n",
       "0  2021-11-25  18:40:44     1.32     -0.44    dry\n",
       "1  2021-11-25  18:40:45     1.32     -0.44    dry\n",
       "2  2021-11-25  18:40:46     1.32     -0.44    dry\n",
       "3  2021-11-25  18:40:47     1.32     -0.44    dry\n",
       "4  2021-11-25  18:40:48     1.32     -0.44    dry"
      ]
     },
     "execution_count": 20,
     "metadata": {},
     "output_type": "execute_result"
    }
   ],
   "source": [
    "df.head()"
   ]
  },
  {
   "cell_type": "code",
   "execution_count": 21,
   "metadata": {},
   "outputs": [
    {
     "data": {
      "text/html": [
       "<div>\n",
       "<style scoped>\n",
       "    .dataframe tbody tr th:only-of-type {\n",
       "        vertical-align: middle;\n",
       "    }\n",
       "\n",
       "    .dataframe tbody tr th {\n",
       "        vertical-align: top;\n",
       "    }\n",
       "\n",
       "    .dataframe thead th {\n",
       "        text-align: right;\n",
       "    }\n",
       "</style>\n",
       "<table border=\"1\" class=\"dataframe\">\n",
       "  <thead>\n",
       "    <tr style=\"text-align: right;\">\n",
       "      <th></th>\n",
       "      <th>date</th>\n",
       "      <th>time</th>\n",
       "      <th>voltage</th>\n",
       "      <th>humidity</th>\n",
       "      <th>target</th>\n",
       "    </tr>\n",
       "  </thead>\n",
       "  <tbody>\n",
       "    <tr>\n",
       "      <th>334056</th>\n",
       "      <td>2021-11-29</td>\n",
       "      <td>18:51:17</td>\n",
       "      <td>1.43</td>\n",
       "      <td>-0.52</td>\n",
       "      <td>dry</td>\n",
       "    </tr>\n",
       "    <tr>\n",
       "      <th>334057</th>\n",
       "      <td>2021-11-29</td>\n",
       "      <td>18:51:18</td>\n",
       "      <td>1.43</td>\n",
       "      <td>-0.52</td>\n",
       "      <td>dry</td>\n",
       "    </tr>\n",
       "    <tr>\n",
       "      <th>334058</th>\n",
       "      <td>2021-11-29</td>\n",
       "      <td>18:51:19</td>\n",
       "      <td>1.43</td>\n",
       "      <td>-0.52</td>\n",
       "      <td>dry</td>\n",
       "    </tr>\n",
       "    <tr>\n",
       "      <th>334059</th>\n",
       "      <td>2021-11-29</td>\n",
       "      <td>18:51:21</td>\n",
       "      <td>1.43</td>\n",
       "      <td>-0.52</td>\n",
       "      <td>dry</td>\n",
       "    </tr>\n",
       "    <tr>\n",
       "      <th>334060</th>\n",
       "      <td>2021-11-29</td>\n",
       "      <td>18:51:22</td>\n",
       "      <td>1.43</td>\n",
       "      <td>-0.52</td>\n",
       "      <td>dry</td>\n",
       "    </tr>\n",
       "  </tbody>\n",
       "</table>\n",
       "</div>"
      ],
      "text/plain": [
       "              date      time  voltage  humidity target\n",
       "334056  2021-11-29  18:51:17     1.43     -0.52    dry\n",
       "334057  2021-11-29  18:51:18     1.43     -0.52    dry\n",
       "334058  2021-11-29  18:51:19     1.43     -0.52    dry\n",
       "334059  2021-11-29  18:51:21     1.43     -0.52    dry\n",
       "334060  2021-11-29  18:51:22     1.43     -0.52    dry"
      ]
     },
     "execution_count": 21,
     "metadata": {},
     "output_type": "execute_result"
    }
   ],
   "source": [
    "df.tail()"
   ]
  },
  {
   "cell_type": "code",
   "execution_count": 22,
   "metadata": {},
   "outputs": [
    {
     "data": {
      "text/plain": [
       "date        0\n",
       "time        0\n",
       "voltage     0\n",
       "humidity    0\n",
       "target      0\n",
       "dtype: int64"
      ]
     },
     "execution_count": 22,
     "metadata": {},
     "output_type": "execute_result"
    }
   ],
   "source": [
    "df.isnull().sum()"
   ]
  },
  {
   "cell_type": "code",
   "execution_count": 23,
   "metadata": {},
   "outputs": [],
   "source": [
    "df = df.set_index('date')"
   ]
  },
  {
   "cell_type": "code",
   "execution_count": 24,
   "metadata": {},
   "outputs": [
    {
     "data": {
      "text/html": [
       "<div>\n",
       "<style scoped>\n",
       "    .dataframe tbody tr th:only-of-type {\n",
       "        vertical-align: middle;\n",
       "    }\n",
       "\n",
       "    .dataframe tbody tr th {\n",
       "        vertical-align: top;\n",
       "    }\n",
       "\n",
       "    .dataframe thead th {\n",
       "        text-align: right;\n",
       "    }\n",
       "</style>\n",
       "<table border=\"1\" class=\"dataframe\">\n",
       "  <thead>\n",
       "    <tr style=\"text-align: right;\">\n",
       "      <th></th>\n",
       "      <th>time</th>\n",
       "      <th>voltage</th>\n",
       "      <th>humidity</th>\n",
       "      <th>target</th>\n",
       "    </tr>\n",
       "    <tr>\n",
       "      <th>date</th>\n",
       "      <th></th>\n",
       "      <th></th>\n",
       "      <th></th>\n",
       "      <th></th>\n",
       "    </tr>\n",
       "  </thead>\n",
       "  <tbody>\n",
       "    <tr>\n",
       "      <th>2021-11-25</th>\n",
       "      <td>18:40:44</td>\n",
       "      <td>1.32</td>\n",
       "      <td>-0.44</td>\n",
       "      <td>dry</td>\n",
       "    </tr>\n",
       "    <tr>\n",
       "      <th>2021-11-25</th>\n",
       "      <td>18:40:45</td>\n",
       "      <td>1.32</td>\n",
       "      <td>-0.44</td>\n",
       "      <td>dry</td>\n",
       "    </tr>\n",
       "    <tr>\n",
       "      <th>2021-11-25</th>\n",
       "      <td>18:40:46</td>\n",
       "      <td>1.32</td>\n",
       "      <td>-0.44</td>\n",
       "      <td>dry</td>\n",
       "    </tr>\n",
       "    <tr>\n",
       "      <th>2021-11-25</th>\n",
       "      <td>18:40:47</td>\n",
       "      <td>1.32</td>\n",
       "      <td>-0.44</td>\n",
       "      <td>dry</td>\n",
       "    </tr>\n",
       "    <tr>\n",
       "      <th>2021-11-25</th>\n",
       "      <td>18:40:48</td>\n",
       "      <td>1.32</td>\n",
       "      <td>-0.44</td>\n",
       "      <td>dry</td>\n",
       "    </tr>\n",
       "  </tbody>\n",
       "</table>\n",
       "</div>"
      ],
      "text/plain": [
       "                time  voltage  humidity target\n",
       "date                                          \n",
       "2021-11-25  18:40:44     1.32     -0.44    dry\n",
       "2021-11-25  18:40:45     1.32     -0.44    dry\n",
       "2021-11-25  18:40:46     1.32     -0.44    dry\n",
       "2021-11-25  18:40:47     1.32     -0.44    dry\n",
       "2021-11-25  18:40:48     1.32     -0.44    dry"
      ]
     },
     "execution_count": 24,
     "metadata": {},
     "output_type": "execute_result"
    }
   ],
   "source": [
    "df.head()"
   ]
  },
  {
   "cell_type": "code",
   "execution_count": 25,
   "metadata": {},
   "outputs": [
    {
     "data": {
      "text/plain": [
       "wet    188669\n",
       "dry    145392\n",
       "Name: target, dtype: int64"
      ]
     },
     "execution_count": 25,
     "metadata": {},
     "output_type": "execute_result"
    }
   ],
   "source": [
    "df['target'].value_counts()"
   ]
  },
  {
   "cell_type": "code",
   "execution_count": 26,
   "metadata": {},
   "outputs": [
    {
     "data": {
      "text/plain": [
       "<matplotlib.axes._subplots.AxesSubplot at 0x2bcf79ac130>"
      ]
     },
     "execution_count": 26,
     "metadata": {},
     "output_type": "execute_result"
    },
    {
     "data": {
      "image/png": "[encoded data removed]",
      "text/plain": [
       "<Figure size 432x288 with 1 Axes>"
      ]
     },
     "metadata": {
      "needs_background": "light"
     },
     "output_type": "display_data"
    }
   ],
   "source": [
    "df.plot()"
   ]
  },
  {
   "cell_type": "code",
   "execution_count": 27,
   "metadata": {},
   "outputs": [],
   "source": [
    "x=df['voltage']\n",
    "\n",
    "y=df['humidity']"
   ]
  },
  {
   "cell_type": "code",
   "execution_count": 28,
   "metadata": {},
   "outputs": [
    {
     "name": "stdout",
     "output_type": "stream",
     "text": [
      "                                 OLS Regression Results                                \n",
      "=======================================================================================\n",
      "Dep. Variable:               humidity   R-squared (uncentered):                   0.992\n",
      "Model:                            OLS   Adj. R-squared (uncentered):              0.992\n",
      "Method:                 Least Squares   F-statistic:                          4.074e+07\n",
      "Date:                Tue, 30 Nov 2021   Prob (F-statistic):                        0.00\n",
      "Time:                        15:37:46   Log-Likelihood:                      6.3486e+05\n",
      "No. Observations:              334061   AIC:                                 -1.270e+06\n",
      "Df Residuals:                  334060   BIC:                                 -1.270e+06\n",
      "Df Model:                           1                                                  \n",
      "Covariance Type:            nonrobust                                                  \n",
      "==============================================================================\n",
      "                 coef    std err          t      P>|t|      [0.025      0.975]\n",
      "------------------------------------------------------------------------------\n",
      "voltage       -0.3129    4.9e-05  -6382.557      0.000      -0.313      -0.313\n",
      "==============================================================================\n",
      "Omnibus:                    35213.544   Durbin-Watson:                   0.002\n",
      "Prob(Omnibus):                  0.000   Jarque-Bera (JB):            18643.263\n",
      "Skew:                          -0.427   Prob(JB):                         0.00\n",
      "Kurtosis:                       2.220   Cond. No.                         1.00\n",
      "==============================================================================\n",
      "\n",
      "Warnings:\n",
      "[1] Standard Errors assume that the covariance matrix of the errors is correctly specified.\n"
     ]
    }
   ],
   "source": [
    "import statsmodels.api as sm\n",
    "model= sm.OLS(y, x)\n",
    "\n",
    "results=model.fit()\n",
    "\n",
    "print(results.summary())"
   ]
  },
  {
   "cell_type": "markdown",
   "metadata": {},
   "source": [
    "# DEEP LEARNING FOR SOIL MOISTURE SENSOR "
   ]
  },
  {
   "cell_type": "code",
   "execution_count": 617,
   "metadata": {},
   "outputs": [],
   "source": [
    "colnames=['date','time','voltage','humidity','target']"
   ]
  },
  {
   "cell_type": "code",
   "execution_count": 618,
   "metadata": {},
   "outputs": [],
   "source": [
    "df1=pd.read_csv(\"sensor_readings.csv\",names=colnames, header=None)"
   ]
  },
  {
   "cell_type": "code",
   "execution_count": 619,
   "metadata": {},
   "outputs": [
    {
     "data": {
      "text/plain": [
       "Index(['date', 'time', 'voltage', 'humidity', 'target'], dtype='object')"
      ]
     },
     "execution_count": 619,
     "metadata": {},
     "output_type": "execute_result"
    }
   ],
   "source": [
    "df1.columns"
   ]
  },
  {
   "cell_type": "code",
   "execution_count": 620,
   "metadata": {},
   "outputs": [],
   "source": [
    "encoded=df1[['date','time','target']].apply(LabelEncoder().fit_transform)"
   ]
  },
  {
   "cell_type": "code",
   "execution_count": 621,
   "metadata": {},
   "outputs": [],
   "source": [
    "remain=df1[['voltage','humidity']]"
   ]
  },
  {
   "cell_type": "code",
   "execution_count": 622,
   "metadata": {},
   "outputs": [],
   "source": [
    "# Adding both the dataframes encoded and remaining (without encoding)\n",
    "data =pd.concat([remain,encoded], axis=1)"
   ]
  },
  {
   "cell_type": "code",
   "execution_count": 623,
   "metadata": {},
   "outputs": [
    {
     "data": {
      "text/html": [
       "<div>\n",
       "<style scoped>\n",
       "    .dataframe tbody tr th:only-of-type {\n",
       "        vertical-align: middle;\n",
       "    }\n",
       "\n",
       "    .dataframe tbody tr th {\n",
       "        vertical-align: top;\n",
       "    }\n",
       "\n",
       "    .dataframe thead th {\n",
       "        text-align: right;\n",
       "    }\n",
       "</style>\n",
       "<table border=\"1\" class=\"dataframe\">\n",
       "  <thead>\n",
       "    <tr style=\"text-align: right;\">\n",
       "      <th></th>\n",
       "      <th>voltage</th>\n",
       "      <th>humidity</th>\n",
       "      <th>date</th>\n",
       "      <th>time</th>\n",
       "      <th>target</th>\n",
       "    </tr>\n",
       "  </thead>\n",
       "  <tbody>\n",
       "    <tr>\n",
       "      <th>0</th>\n",
       "      <td>1.32</td>\n",
       "      <td>-0.44</td>\n",
       "      <td>0</td>\n",
       "      <td>67244</td>\n",
       "      <td>0</td>\n",
       "    </tr>\n",
       "    <tr>\n",
       "      <th>1</th>\n",
       "      <td>1.32</td>\n",
       "      <td>-0.44</td>\n",
       "      <td>0</td>\n",
       "      <td>67245</td>\n",
       "      <td>0</td>\n",
       "    </tr>\n",
       "    <tr>\n",
       "      <th>2</th>\n",
       "      <td>1.32</td>\n",
       "      <td>-0.44</td>\n",
       "      <td>0</td>\n",
       "      <td>67246</td>\n",
       "      <td>0</td>\n",
       "    </tr>\n",
       "    <tr>\n",
       "      <th>3</th>\n",
       "      <td>1.32</td>\n",
       "      <td>-0.44</td>\n",
       "      <td>0</td>\n",
       "      <td>67247</td>\n",
       "      <td>0</td>\n",
       "    </tr>\n",
       "    <tr>\n",
       "      <th>4</th>\n",
       "      <td>1.32</td>\n",
       "      <td>-0.44</td>\n",
       "      <td>0</td>\n",
       "      <td>67248</td>\n",
       "      <td>0</td>\n",
       "    </tr>\n",
       "  </tbody>\n",
       "</table>\n",
       "</div>"
      ],
      "text/plain": [
       "   voltage  humidity  date   time  target\n",
       "0     1.32     -0.44     0  67244       0\n",
       "1     1.32     -0.44     0  67245       0\n",
       "2     1.32     -0.44     0  67246       0\n",
       "3     1.32     -0.44     0  67247       0\n",
       "4     1.32     -0.44     0  67248       0"
      ]
     },
     "execution_count": 623,
     "metadata": {},
     "output_type": "execute_result"
    }
   ],
   "source": [
    "data.head()"
   ]
  },
  {
   "cell_type": "code",
   "execution_count": 624,
   "metadata": {},
   "outputs": [
    {
     "data": {
      "text/plain": [
       "target\n",
       "1         188669\n",
       "0         145392\n",
       "dtype: int64"
      ]
     },
     "execution_count": 624,
     "metadata": {},
     "output_type": "execute_result"
    }
   ],
   "source": [
    "data[['target']].value_counts()"
   ]
  },
  {
   "cell_type": "code",
   "execution_count": 625,
   "metadata": {},
   "outputs": [
    {
     "data": {
      "text/plain": [
       "Index(['voltage', 'humidity', 'date', 'time', 'target'], dtype='object')"
      ]
     },
     "execution_count": 625,
     "metadata": {},
     "output_type": "execute_result"
    }
   ],
   "source": [
    "data.columns"
   ]
  },
  {
   "cell_type": "code",
   "execution_count": 626,
   "metadata": {},
   "outputs": [],
   "source": [
    "X=data[['voltage', 'humidity', 'date', 'time']]"
   ]
  },
  {
   "cell_type": "code",
   "execution_count": 627,
   "metadata": {},
   "outputs": [],
   "source": [
    "y=data['target']"
   ]
  },
  {
   "cell_type": "code",
   "execution_count": 628,
   "metadata": {},
   "outputs": [],
   "source": [
    "#Split data in training and testing sample with 70% for training and 30% for testing\n",
    "X_train, X_test, y_train, y_test = train_test_split(X, y, test_size = 0.2, random_state = 42)"
   ]
  },
  {
   "cell_type": "code",
   "execution_count": 629,
   "metadata": {},
   "outputs": [
    {
     "name": "stdout",
     "output_type": "stream",
     "text": [
      "(267248, 4) (66813, 4) (267248,) (66813,)\n"
     ]
    }
   ],
   "source": [
    "print(X_train.shape,X_test.shape,y_train.shape,y_test.shape)"
   ]
  },
  {
   "cell_type": "code",
   "execution_count": 630,
   "metadata": {},
   "outputs": [],
   "source": [
    "#Nous pouvons maintenant standardiser les variables, \n",
    "#c'est-à-dire les centrer (ramener leur moyenne à 0) \n",
    "#et les réduire (ramener leur écart-type à 1), \n",
    "#afin qu'elles se placent toutes à peu près sur la même échelle\n",
    "# standardiser les données\n",
    "std_scale = preprocessing.StandardScaler().fit(X_train)\n",
    "x_train_std = std_scale.transform(X_train)\n",
    "x_test_std = std_scale.transform(X_test)"
   ]
  },
  {
   "cell_type": "code",
   "execution_count": 631,
   "metadata": {},
   "outputs": [
    {
     "data": {
      "text/plain": [
       "(66813, 4)"
      ]
     },
     "execution_count": 631,
     "metadata": {},
     "output_type": "execute_result"
    }
   ],
   "source": [
    "x_test_std.shape"
   ]
  },
  {
   "cell_type": "code",
   "execution_count": 635,
   "metadata": {},
   "outputs": [
    {
     "data": {
      "text/plain": [
       "(267248, 4)"
      ]
     },
     "execution_count": 635,
     "metadata": {},
     "output_type": "execute_result"
    }
   ],
   "source": [
    "x_train_std.shape"
   ]
  },
  {
   "cell_type": "code",
   "execution_count": 632,
   "metadata": {},
   "outputs": [],
   "source": [
    "\n",
    "# Create model\n",
    "# Using a sequential that uses three layers. Here are there two hinden layers with 16 nodes each and one output layer with one node\n",
    "# the keras.sequential creates the single stack of layers that are sequentially connected\n",
    "# model.add(Dense(16, input_dim=4, activation='relu', kernel_constraint=maxnorm(3))) is the first layer added to the model. it's function is to take the input with 4 paramters\n",
    "# model.add(Dense(16, activation='relu', kernel_constraint=maxnorm(3)) adds a dense hiden layers  \n",
    "##### They use ReLU (Rectified Linear Units) as the activation function. \n",
    "##### ReLU is a half rectified function; that is, for all the inputs less than 0 (e.g. -120,-6.7, -0.0344, 0)\n",
    "# model.add(Dense(1, activation='sigmoid')) is the output layers which uses the Sigmoid activation function \n",
    "\n",
    "\n",
    "model = Sequential()\n",
    "model.add(Dense(16, input_dim=4, activation='relu', kernel_constraint=maxnorm(3)))\n",
    "model.add(Dropout(0.2))\n",
    "model.add(Dense(16, activation='relu', kernel_constraint=maxnorm(3)))\n",
    "model.add(Dropout(0.2))\n",
    "model.add(Dense(1, activation='sigmoid'))\n",
    "    \n",
    "    # Compile model\n",
    "    \n",
    "#sgd = SGD(lr=0.1, momentum=0.9)\n",
    "model.compile(loss='binary_crossentropy', optimizer='Adagrad', metrics=['accuracy'])\n",
    "    "
   ]
  },
  {
   "cell_type": "code",
   "execution_count": 669,
   "metadata": {},
   "outputs": [
    {
     "name": "stdout",
     "output_type": "stream",
     "text": [
      "Model: \"sequential_65\"\n",
      "_________________________________________________________________\n",
      "Layer (type)                 Output Shape              Param #   \n",
      "=================================================================\n",
      "dense_195 (Dense)            (None, 16)                80        \n",
      "_________________________________________________________________\n",
      "dropout_72 (Dropout)         (None, 16)                0         \n",
      "_________________________________________________________________\n",
      "dense_196 (Dense)            (None, 16)                272       \n",
      "_________________________________________________________________\n",
      "dropout_73 (Dropout)         (None, 16)                0         \n",
      "_________________________________________________________________\n",
      "dense_197 (Dense)            (None, 1)                 17        \n",
      "=================================================================\n",
      "Total params: 369\n",
      "Trainable params: 369\n",
      "Non-trainable params: 0\n",
      "_________________________________________________________________\n"
     ]
    }
   ],
   "source": [
    "model.summary()"
   ]
  },
  {
   "cell_type": "code",
   "execution_count": 634,
   "metadata": {},
   "outputs": [
    {
     "name": "stdout",
     "output_type": "stream",
     "text": [
      "Epoch 1/10\n",
      "24053/24053 [==============================] - 22s 911us/step - loss: 0.5313 - accuracy: 0.8433 - val_loss: 0.4074 - val_accuracy: 0.9862\n",
      "Epoch 2/10\n",
      "24053/24053 [==============================] - 22s 920us/step - loss: 0.3646 - accuracy: 0.9801 - val_loss: 0.2879 - val_accuracy: 0.9862\n",
      "Epoch 3/10\n",
      "24053/24053 [==============================] - 22s 930us/step - loss: 0.2634 - accuracy: 0.9831 - val_loss: 0.1937 - val_accuracy: 0.9862\n",
      "Epoch 4/10\n",
      "24053/24053 [==============================] - 23s 953us/step - loss: 0.1891 - accuracy: 0.9831 - val_loss: 0.1344 - val_accuracy: 0.9862\n",
      "Epoch 5/10\n",
      "24053/24053 [==============================] - 21s 873us/step - loss: 0.1457 - accuracy: 0.9832 - val_loss: 0.1009 - val_accuracy: 0.9862\n",
      "Epoch 6/10\n",
      "24053/24053 [==============================] - 22s 905us/step - loss: 0.1190 - accuracy: 0.9831 - val_loss: 0.0785 - val_accuracy: 0.9862\n",
      "Epoch 7/10\n",
      "24053/24053 [==============================] - 24s 985us/step - loss: 0.1003 - accuracy: 0.9835 - val_loss: 0.0632 - val_accuracy: 0.9862\n",
      "Epoch 8/10\n",
      "24053/24053 [==============================] - 27s 1ms/step - loss: 0.0882 - accuracy: 0.9836 - val_loss: 0.0540 - val_accuracy: 0.9862\n",
      "Epoch 9/10\n",
      "24053/24053 [==============================] - 25s 1ms/step - loss: 0.0795 - accuracy: 0.9839 - val_loss: 0.0482 - val_accuracy: 0.9862\n",
      "Epoch 10/10\n",
      "24053/24053 [==============================] - 25s 1ms/step - loss: 0.0739 - accuracy: 0.9843 - val_loss: 0.0441 - val_accuracy: 0.9862\n"
     ]
    }
   ],
   "source": [
    "# history = model1.fit(train_x, train_y,validation_split = 0.1, epochs=50, batch_size=4)\n",
    "history=model.fit(x_train_std, y_train,validation_split = 0.1,epochs=10, batch_size=10)"
   ]
  },
  {
   "cell_type": "code",
   "execution_count": 636,
   "metadata": {},
   "outputs": [
    {
     "data": {
      "image/png": "[encoded data removed]",
      "text/plain": [
       "<Figure size 432x288 with 1 Axes>"
      ]
     },
     "metadata": {
      "needs_background": "light"
     },
     "output_type": "display_data"
    }
   ],
   "source": [
    "from matplotlib import pyplot as plt\n",
    "# history = model1.fit(train_x, train_y,validation_split = 0.1, epochs=50, batch_size=4)\n",
    "plt.plot(history.history['accuracy'])\n",
    "plt.plot(history.history['val_accuracy'])\n",
    "plt.title('model accuracy')\n",
    "plt.ylabel('accuracy')\n",
    "plt.xlabel('epoch')\n",
    "plt.legend(['train', 'val'], loc='upper left')\n",
    "plt.show()"
   ]
  },
  {
   "cell_type": "code",
   "execution_count": 676,
   "metadata": {},
   "outputs": [
    {
     "data": {
      "image/png": "[encoded data removed]",
      "text/plain": [
       "<Figure size 432x288 with 1 Axes>"
      ]
     },
     "metadata": {
      "needs_background": "light"
     },
     "output_type": "display_data"
    }
   ],
   "source": [
    "plt.plot(history.history['loss'])\n",
    "plt.plot(history.history['val_loss'])\n",
    "plt.title('loss graph by epoch')\n",
    "plt.ylabel('loss')\n",
    "plt.xlabel('epoch')\n",
    "plt.legend(['train', 'val'], loc='upper left')\n",
    "plt.show()"
   ]
  },
  {
   "cell_type": "code",
   "execution_count": 651,
   "metadata": {},
   "outputs": [],
   "source": [
    "result = model.predict(x_test_std)"
   ]
  },
  {
   "cell_type": "code",
   "execution_count": 652,
   "metadata": {},
   "outputs": [
    {
     "data": {
      "text/plain": [
       "array([[0.00648215],\n",
       "       [0.9131422 ],\n",
       "       [0.93969595],\n",
       "       ...,\n",
       "       [0.8772094 ],\n",
       "       [0.99552685],\n",
       "       [0.997649  ]], dtype=float32)"
      ]
     },
     "execution_count": 652,
     "metadata": {},
     "output_type": "execute_result"
    }
   ],
   "source": [
    "result"
   ]
  },
  {
   "cell_type": "code",
   "execution_count": 672,
   "metadata": {},
   "outputs": [
    {
     "name": "stdout",
     "output_type": "stream",
     "text": [
      "The soil is dry\n"
     ]
    }
   ],
   "source": [
    "if result[0]<=0.5:\n",
    "    print(\"The soil is dry\")\n",
    "else:\n",
    "    print(\"The soil is wet\")"
   ]
  },
  {
   "cell_type": "code",
   "execution_count": 673,
   "metadata": {},
   "outputs": [
    {
     "name": "stdout",
     "output_type": "stream",
     "text": [
      "The soil is wet\n"
     ]
    }
   ],
   "source": [
    "if result[1]<=0.5:\n",
    "    print(\"The soil is dry\")\n",
    "else:\n",
    "    print(\"The soil is wet\")"
   ]
  },
  {
   "cell_type": "code",
   "execution_count": 653,
   "metadata": {},
   "outputs": [
    {
     "name": "stderr",
     "output_type": "stream",
     "text": [
      "C:\\Users\\couli\\anaconda3\\lib\\site-packages\\sklearn\\utils\\validation.py:70: FutureWarning: Pass threshold=0.5 as keyword args. From version 1.0 (renaming of 0.25) passing these as positional arguments will result in an error\n",
      "  warnings.warn(f\"Pass {args_msg} as keyword args. From version \"\n"
     ]
    }
   ],
   "source": [
    "from sklearn.preprocessing import binarize\n",
    "\n",
    "#everything together \n",
    "predict = np.ravel(binarize(result.reshape(-1,1), 0.5))"
   ]
  },
  {
   "cell_type": "code",
   "execution_count": 654,
   "metadata": {},
   "outputs": [
    {
     "data": {
      "text/plain": [
       "array([0., 1., 1., ..., 1., 1., 1.], dtype=float32)"
      ]
     },
     "execution_count": 654,
     "metadata": {},
     "output_type": "execute_result"
    }
   ],
   "source": [
    "predict"
   ]
  },
  {
   "cell_type": "code",
   "execution_count": 655,
   "metadata": {},
   "outputs": [],
   "source": [
    "# save it as a h5 file\n",
    "from tensorflow.keras.models import load_model\n",
    "model.save('model_rwet_dry.h5')"
   ]
  },
  {
   "cell_type": "code",
   "execution_count": 663,
   "metadata": {},
   "outputs": [
    {
     "name": "stdout",
     "output_type": "stream",
     "text": [
      "[[29064    78]\n",
      " [  806 36865]]\n"
     ]
    }
   ],
   "source": [
    "mythreshold=0.8\n",
    "from sklearn.metrics import confusion_matrix\n",
    "\n",
    "y_pred = (model.predict(x_test_std)>= mythreshold).astype(int)\n",
    "cm=confusion_matrix(y_test, predict)  \n",
    "print(cm)\n"
   ]
  },
  {
   "cell_type": "code",
   "execution_count": 662,
   "metadata": {},
   "outputs": [
    {
     "data": {
      "image/png": "[encoded data removed]",
      "text/plain": [
       "<Figure size 432x360 with 2 Axes>"
      ]
     },
     "metadata": {
      "needs_background": "light"
     },
     "output_type": "display_data"
    }
   ],
   "source": [
    "# plot the confusion matrix\n",
    "f,ax = plt.subplots(figsize=(6, 5))\n",
    "sns.heatmap(cm, annot=True, linewidths=0.01,cmap=\"Greens\",linecolor=\"gray\", fmt= '.1f',ax=ax)\n",
    "plt.xlabel(\"Predicted Label\")\n",
    "plt.ylabel(\"True Label\")\n",
    "plt.title(\"Confusion Matrix \")\n",
    "plt.show()"
   ]
  },
  {
   "cell_type": "code",
   "execution_count": 670,
   "metadata": {},
   "outputs": [
    {
     "name": "stdout",
     "output_type": "stream",
     "text": [
      "              precision    recall  f1-score   support\n",
      "\n",
      "           0       0.97      1.00      0.99     29142\n",
      "           1       1.00      0.98      0.99     37671\n",
      "\n",
      "    accuracy                           0.99     66813\n",
      "   macro avg       0.99      0.99      0.99     66813\n",
      "weighted avg       0.99      0.99      0.99     66813\n",
      "\n"
     ]
    }
   ],
   "source": [
    "#VISUALISATION \n",
    "print(classification_report(y_test, predict))"
   ]
  },
  {
   "cell_type": "code",
   "execution_count": null,
   "metadata": {},
   "outputs": [],
   "source": []
  },
  {
   "cell_type": "code",
   "execution_count": null,
   "metadata": {},
   "outputs": [],
   "source": []
  },
  {
   "cell_type": "code",
   "execution_count": null,
   "metadata": {},
   "outputs": [],
   "source": []
  },
  {
   "cell_type": "code",
   "execution_count": null,
   "metadata": {},
   "outputs": [],
   "source": []
  }
 ],
 "metadata": {
  "kernelspec": {
   "display_name": "Python 3",
   "language": "python",
   "name": "python3"
  },
  "language_info": {
   "codemirror_mode": {
    "name": "ipython",
    "version": 3
   },
   "file_extension": ".py",
   "mimetype": "text/x-python",
   "name": "python",
   "nbconvert_exporter": "python",
   "pygments_lexer": "ipython3",
   "version": "3.8.3"
  }
 },
 "nbformat": 4,
 "nbformat_minor": 4
}
